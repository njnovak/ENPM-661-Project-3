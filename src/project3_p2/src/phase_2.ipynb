{
 "cells": [
  {
   "cell_type": "code",
   "execution_count": null,
   "metadata": {},
   "outputs": [
    {
     "ename": "",
     "evalue": "",
     "output_type": "error",
     "traceback": [
      "\u001b[1;31mRunning cells with 'Python 3.8.10 64-bit' requires ipykernel package.\n",
      "Run the following command to install 'ipykernel' into the Python environment. \n",
      "Command: '/bin/python3 -m pip install ipykernel -U --user --force-reinstall'"
     ]
    }
   ],
   "source": [
    "import numpy as np\n",
    "import matplotlib.pyplot as plt\n",
    "from matplotlib.animation import FuncAnimation\n",
    "from copy import deepcopy\n",
    "import cv2\n",
    "from cv2 import VideoWriter, VideoWriter_fourcc\n",
    "import sys\n",
    "import math"
   ]
  },
  {
   "cell_type": "code",
   "execution_count": null,
   "metadata": {},
   "outputs": [
    {
     "ename": "",
     "evalue": "",
     "output_type": "error",
     "traceback": [
      "\u001b[1;31mRunning cells with 'Python 3.8.10 64-bit' requires ipykernel package.\n",
      "Run the following command to install 'ipykernel' into the Python environment. \n",
      "Command: '/bin/python3 -m pip install ipykernel -U --user --force-reinstall'"
     ]
    }
   ],
   "source": [
    "# node class that each spot in the map will occupy\n",
    "# cell location and goal_location are tuples representing index \n",
    "# of current cell location and goal cell locations\n",
    "# local path represents the path to get to this \n",
    "# node from the optimal parent node\n",
    "class Node:\n",
    "    def __init__(self, parent, cell_location, region, c2c, c2g, local_path, command):\n",
    "        self.parent = parent\n",
    "        self.cell_location = cell_location\n",
    "        self.region = region\n",
    "        self.c2c = c2c\n",
    "        self.c2g = c2g\n",
    "        self.h = c2c+c2g\n",
    "        self.local_path = local_path\n",
    "        self.command = command"
   ]
  },
  {
   "cell_type": "code",
   "execution_count": null,
   "metadata": {},
   "outputs": [
    {
     "ename": "",
     "evalue": "",
     "output_type": "error",
     "traceback": [
      "\u001b[1;31mRunning cells with 'Python 3.8.10 64-bit' requires ipykernel package.\n",
      "Run the following command to install 'ipykernel' into the Python environment. \n",
      "Command: '/bin/python3 -m pip install ipykernel -U --user --force-reinstall'"
     ]
    }
   ],
   "source": [
    "# given 2 points of a line, retrun a lambda function which caluclates the \n",
    "# y value of an x\n",
    "def generate_line_eq(p1, p2):\n",
    "    \n",
    "    x1 = p1[0]\n",
    "    y1 = p1[1]\n",
    "    \n",
    "    x2 = p2[0]\n",
    "    y2 = p2[1]\n",
    "    \n",
    "    m = (y2-y1)/(x2-x1)\n",
    "    b = y1-m*x1\n",
    "    \n",
    "    lin_func = lambda x: m*x+b\n",
    "    \n",
    "    return lin_func"
   ]
  },
  {
   "cell_type": "code",
   "execution_count": null,
   "metadata": {},
   "outputs": [
    {
     "ename": "",
     "evalue": "",
     "output_type": "error",
     "traceback": [
      "\u001b[1;31mRunning cells with 'Python 3.8.10 64-bit' requires ipykernel package.\n",
      "Run the following command to install 'ipykernel' into the Python environment. \n",
      "Command: '/bin/python3 -m pip install ipykernel -U --user --force-reinstall'"
     ]
    }
   ],
   "source": [
    "# hardcoded obstacles defined by their vertices and origins\n",
    "# we just see if the current x and y are within bounding lines\n",
    "def check_obstacle(x, y):\n",
    "    \n",
    "    # check circle\n",
    "    if y <= 225 and y >= 145 and x <= np.sqrt(40**2 - (y-185)**2) + 300 and x >= -np.sqrt(40**2 - (y-185)**2) + 300:\n",
    "        return True\n",
    "    \n",
    "    # check triangles\n",
    "    t1_line = generate_line_eq((36, 185), (115, 210))\n",
    "    t2_line = generate_line_eq((36, 185), (102, 100))\n",
    "    t3_line = generate_line_eq((80, 180), (115, 210))\n",
    "    t4_line = generate_line_eq((80, 180), (105, 100))\n",
    "    if x in range(36, 81):\n",
    "        if y in range(int(np.floor(t2_line(int(x)))), int(np.ceil(t1_line(int(x))))+1):\n",
    "            return True\n",
    "    if x in range(80, 116):\n",
    "        if y in range(int(np.floor(t3_line(int(x)))), int(np.ceil(t1_line(int(x))))+1):\n",
    "            return True\n",
    "    if x in range(80, 106):\n",
    "        if y in range(int(np.floor(t2_line(int(x)))), int(np.ceil(t4_line(int(x))))+1):\n",
    "            return True\n",
    "    \n",
    "    # check hexagon\n",
    "    x_h = 200\n",
    "    y_h = 100\n",
    "    a = 35\n",
    "    s = int(a*2/np.sqrt(3))\n",
    "    \n",
    "    h1_line = generate_line_eq((x_h-a, y_h+s/2), (x_h,y_h+s))\n",
    "    h2_line = generate_line_eq((x_h-a, y_h-s/2), (x_h,y_h-s))\n",
    "    h3_line = generate_line_eq((x_h,y_h+s), (x_h+a, y_h+s/2))\n",
    "    h4_line = generate_line_eq((x_h,y_h-s), (x_h+a, y_h-s/2))\n",
    "    \n",
    "    if x in range(x_h-a, x_h+1):\n",
    "        if y in range(int(np.floor(h2_line(int(x)))), int(np.ceil(h1_line(int(x))))+1):\n",
    "            return True\n",
    "    if x in range(x_h, x_h+a+1):\n",
    "            if y in range(int(np.floor(h4_line(int(x)))), int(np.ceil(h3_line(int(x))))+1):\n",
    "                return True\n",
    "\n",
    "    return False"
   ]
  },
  {
   "cell_type": "code",
   "execution_count": null,
   "metadata": {},
   "outputs": [
    {
     "ename": "",
     "evalue": "",
     "output_type": "error",
     "traceback": [
      "\u001b[1;31mRunning cells with 'Python 3.8.10 64-bit' requires ipykernel package.\n",
      "Run the following command to install 'ipykernel' into the Python environment. \n",
      "Command: '/bin/python3 -m pip install ipykernel -U --user --force-reinstall'"
     ]
    }
   ],
   "source": [
    "# iterate over the board, and if the cell is an obstacle, generate \n",
    "# the a circle of points around it which are padding\n",
    "def generate_margin(color_map, radius):\n",
    "\n",
    "    for y in range(len(color_map)):\n",
    "        for x in range(len(color_map[y])):\n",
    "\n",
    "            # read the color map and check to see if the current space is an obstacle\n",
    "            if (color_map[y][x][0] == 255 and color_map[y][x][1] == 0 and \n",
    "                color_map[y][x][2] == 0):\n",
    "\n",
    "                # generate circle bounds for a point if it is an obstacle\n",
    "                x_range = range(x-radius, x+radius+1)\n",
    "\n",
    "                for x_i in x_range:\n",
    "                    y_upper_limit = np.ceil(np.sqrt(radius**2-(x_i-x)**2) + y)\n",
    "                    y_lower_limit = np.floor(-np.sqrt(radius**2-(x_i-x)**2) + y)\n",
    "\n",
    "                    y_range = np.arange(y_lower_limit, y_upper_limit+1)\n",
    "                    for y_i in y_range:\n",
    "                        if (x_i >= 0 and x_i <= 399) and (y_i >= 0 and y_i <= 249):\n",
    "                            if not (color_map[int(y_i)][x_i][0] == [255] and \n",
    "                                    color_map[int(y_i)][x_i][1] == [0] and \n",
    "                                    color_map[int(y_i)][x_i][2] == [0]):\n",
    "                                color_map[int(y_i)][x_i] = [0,255,0]\n",
    "    return color_map"
   ]
  },
  {
   "cell_type": "code",
   "execution_count": null,
   "metadata": {},
   "outputs": [
    {
     "ename": "",
     "evalue": "",
     "output_type": "error",
     "traceback": [
      "\u001b[1;31mRunning cells with 'Python 3.8.10 64-bit' requires ipykernel package.\n",
      "Run the following command to install 'ipykernel' into the Python environment. \n",
      "Command: '/bin/python3 -m pip install ipykernel -U --user --force-reinstall'"
     ]
    }
   ],
   "source": [
    "# draw a circle (red in numpy, blue in opencv) to represent the acceptable goal zone\n",
    "def expand_goal(color_map, goal_location, radius):\n",
    "\n",
    "    x = goal_location[1]\n",
    "    y = goal_location[0]\n",
    "\n",
    "    x_range = range(x-radius, x+radius+1)\n",
    "    for x_i in x_range:\n",
    "        y_upper_limit = np.ceil(np.sqrt(radius**2-(x_i-x)**2) + y)\n",
    "        y_lower_limit = np.floor(-np.sqrt(radius**2-(x_i-x)**2) + y)\n",
    "\n",
    "        y_range = np.arange(y_lower_limit, y_upper_limit+1)\n",
    "        for y_i in y_range:\n",
    "            if (x_i >= 0 and x_i <= 399) and (y_i >= 0 and y_i <= 249):\n",
    "                if not (int(color_map[int(y_i)][int(x_i)][0]) == 255 or\\\n",
    "                       int(color_map[int(y_i)][int(x_i)][1]) == 255):\n",
    "                    color_map[int(y_i)][int(x_i)] = [0,0,255]\n",
    "\n",
    "    return color_map"
   ]
  },
  {
   "cell_type": "code",
   "execution_count": null,
   "metadata": {},
   "outputs": [
    {
     "ename": "",
     "evalue": "",
     "output_type": "error",
     "traceback": [
      "\u001b[1;31mRunning cells with 'Python 3.8.10 64-bit' requires ipykernel package.\n",
      "Run the following command to install 'ipykernel' into the Python environment. \n",
      "Command: '/bin/python3 -m pip install ipykernel -U --user --force-reinstall'"
     ]
    }
   ],
   "source": [
    "# read the board and depending on each nodes status\n",
    "# write the proper color in a numpy array as BGR colors\n",
    "def create_color_map(height, width, radius, goal_location):\n",
    "\n",
    "    color_map = np.zeros(shape=[height, width, 3], dtype=np.uint8)\n",
    "\n",
    "\n",
    "\n",
    "    for row in range(height):\n",
    "        for col in range(width):\n",
    "            if check_obstacle(col, row):\n",
    "                color_map[row][col][0] = 255\n",
    "                color_map[row][col][1] = 0\n",
    "                color_map[row][col][2] = 0\n",
    "\n",
    "            else:\n",
    "                color_map[row][col][0] = 0\n",
    "                color_map[row][col][1] = 0\n",
    "                color_map[row][col][2] = 0\n",
    "\n",
    "    color_map = expand_goal(color_map, goal_location, 15)\n",
    "\n",
    "    color_map = generate_margin(color_map, radius)\n",
    "    return color_map"
   ]
  },
  {
   "cell_type": "code",
   "execution_count": null,
   "metadata": {},
   "outputs": [
    {
     "ename": "",
     "evalue": "",
     "output_type": "error",
     "traceback": [
      "\u001b[1;31mRunning cells with 'Python 3.8.10 64-bit' requires ipykernel package.\n",
      "Run the following command to install 'ipykernel' into the Python environment. \n",
      "Command: '/bin/python3 -m pip install ipykernel -U --user --force-reinstall'"
     ]
    }
   ],
   "source": [
    "# pass in color map coordinates and convert them to board \n",
    "# coordinates which have been compressed/expanded coordinates \n",
    "# by the neighborhood threshold\n",
    "def compress_coordinates(x, y, theta, thresh):\n",
    "    compressed_x = int(np.floor(x/thresh))\n",
    "    compressed_y = int(np.floor(y/thresh))\n",
    "    compressed_angle = 0 if theta == 0 else (int(np.floor(360/theta))-1)%12\n",
    "\n",
    "    return compressed_x, compressed_y, compressed_angle"
   ]
  },
  {
   "cell_type": "code",
   "execution_count": null,
   "metadata": {},
   "outputs": [
    {
     "ename": "",
     "evalue": "",
     "output_type": "error",
     "traceback": [
      "\u001b[1;31mRunning cells with 'Python 3.8.10 64-bit' requires ipykernel package.\n",
      "Run the following command to install 'ipykernel' into the Python environment. \n",
      "Command: '/bin/python3 -m pip install ipykernel -U --user --force-reinstall'"
     ]
    }
   ],
   "source": [
    "# will be used when iterating over closed nodes\n",
    "# updates the previous color map given the current node to a specifies color\n",
    "def update_color_map(curr_node, color_map, brg_color):\n",
    "\n",
    "    row = int(np.floor(curr_node.cell_location[0]))\n",
    "    col = int(np.floor(curr_node.cell_location[1]))\n",
    "\n",
    "    color_map[row][col][0] = brg_color[0]\n",
    "    color_map[row][col][1] = brg_color[1]\n",
    "    color_map[row][col][2] = brg_color[2]\n",
    "\n",
    "    return color_map"
   ]
  },
  {
   "cell_type": "code",
   "execution_count": null,
   "metadata": {},
   "outputs": [
    {
     "ename": "",
     "evalue": "",
     "output_type": "error",
     "traceback": [
      "\u001b[1;31mRunning cells with 'Python 3.8.10 64-bit' requires ipykernel package.\n",
      "Run the following command to install 'ipykernel' into the Python environment. \n",
      "Command: '/bin/python3 -m pip install ipykernel -U --user --force-reinstall'"
     ]
    }
   ],
   "source": [
    "# create the board\n",
    "# returns a 3d array\n",
    "# dimensions are height width and angle. Takes in a compressed version of \n",
    "# the height width and angle which handles the region/node similarity\n",
    "def create_board(width, height, thresh):\n",
    "\n",
    "    compressed_width, compressed_height, compressed_angle = compress_coordinates(x=width, y=height, theta=30, thresh=thresh)\n",
    "\n",
    "    board = []\n",
    "    for row_num in range(0, compressed_height):\n",
    "        temp_row = []\n",
    "        for col_num in range(0, compressed_width):\n",
    "\n",
    "            temp_configuration = []\n",
    "            for angle in range(0,compressed_angle+1):\n",
    "\n",
    "                c2c = np.Infinity\n",
    "                c2g = np.Infinity\n",
    "\n",
    "                # c2g = np.sqrt((row_num-goal_location[0])**2 + (col_num-goal_location[1]**2))\n",
    "\n",
    "                new_node = Node(parent=None, \n",
    "                                c2c=c2c,\n",
    "                                c2g=c2g,\n",
    "                                cell_location=[int(row_num*thresh), int(col_num*thresh), angle],\n",
    "                                region=[row_num, col_num, angle],\n",
    "                                local_path=[],\n",
    "                                command = None)\n",
    "\n",
    "                temp_configuration.append(new_node)\n",
    "            temp_row.append(temp_configuration)\n",
    "        board.append(temp_row)\n",
    "\n",
    "    return board"
   ]
  },
  {
   "cell_type": "code",
   "execution_count": null,
   "metadata": {},
   "outputs": [
    {
     "ename": "",
     "evalue": "",
     "output_type": "error",
     "traceback": [
      "\u001b[1;31mRunning cells with 'Python 3.8.10 64-bit' requires ipykernel package.\n",
      "Run the following command to install 'ipykernel' into the Python environment. \n",
      "Command: '/bin/python3 -m pip install ipykernel -U --user --force-reinstall'"
     ]
    }
   ],
   "source": [
    "# generates a series of x and y values representing a curve given wheel velocities\n",
    "# also returns the final theta orientation of the node, as well as the total cost of the path\n",
    "# path validity is not checked here\n",
    "def generate_curve(x,y,theta,UL,UR):\n",
    "\n",
    "    # robot parameters\n",
    "    t = 0\n",
    "    r = 5\n",
    "    L = 50\n",
    "    dt = 0.05\n",
    "    cost=0\n",
    "\n",
    "\n",
    "    # list of x and y values\n",
    "    # will be set to the nodes local_path so we can graph it\n",
    "    x_res = [x]\n",
    "    y_res = [y]\n",
    "\n",
    "    theta = 3.14 * theta / 180\n",
    "\n",
    "    # generate the subpoints for the curve and\n",
    "    # append the points to the x and y list\n",
    "    while t<1:\n",
    "        t = t + dt\n",
    "        x += 0.5*r * (UL + UR) * math.cos(theta) * dt\n",
    "        y += 0.5*r * (UL + UR) * math.sin(theta) * dt\n",
    "        theta += (r / L) * (UR - UL) * dt\n",
    "        cost = cost+ math.sqrt(math.pow((0.5*r * (UL + UR) * math.cos(theta) * dt),2)+math.pow((0.5*r * (UL + UR) * math.sin(theta) * dt),2))\n",
    "        \n",
    "        x_res.append(x)\n",
    "        y_res.append(y)\n",
    "        \n",
    "    theta = 180 * (theta) / 3.14\n",
    "    \n",
    "    # retrun the x and ys to be plotted as well as the end theta, and cost of the curve \n",
    "    return x_res, y_res, theta, cost\n",
    "    \n"
   ]
  },
  {
   "cell_type": "code",
   "execution_count": null,
   "metadata": {},
   "outputs": [
    {
     "ename": "",
     "evalue": "",
     "output_type": "error",
     "traceback": [
      "\u001b[1;31mRunning cells with 'Python 3.8.10 64-bit' requires ipykernel package.\n",
      "Run the following command to install 'ipykernel' into the Python environment. \n",
      "Command: '/bin/python3 -m pip install ipykernel -U --user --force-reinstall'"
     ]
    }
   ],
   "source": [
    "# uses the predefined differential commands to generate the arc of the robots path\n",
    "# for each point in the arc, check bounds and if in opstacle or margin, and disqualify arcs which contain invalid points\n",
    "# if arc is valid then pull the node it ends on compare costs, and if cheaper, then update the cost and local path to the node\n",
    "\n",
    "def gen_next_nodes(curr_node, color_map, board, goal_location, thresh):\n",
    "\n",
    "    curr_y = curr_node.cell_location[0]\n",
    "    curr_x = curr_node.cell_location[1]\n",
    "    curr_angle = curr_node.cell_location[2]\n",
    "\n",
    "    next_nodes = []\n",
    "\n",
    "    actions=[[7, 3], [10, 0], [5, 5], [0,10], [3, 7]]\n",
    "    for action in actions:\n",
    "\n",
    "        x_res, y_res, theta, cost = generate_curve(curr_x, curr_y, curr_angle, action[0], action[1])\n",
    "\n",
    "        valid = True\n",
    "\n",
    "        # bounds checking\n",
    "        for x in x_res:\n",
    "            if int(x) < 0 or int(x) > 399:\n",
    "                valid = False\n",
    "        for y in y_res:\n",
    "            if int(y) < 0 or int(y) > 249:\n",
    "                valid = False\n",
    "\n",
    "\n",
    "        if valid:\n",
    "            for i in range(len(x_res)):\n",
    "                if int(color_map[int(y_res[i])][int(x_res[i])][0]) == 255 and\\\n",
    "                   int(color_map[int(y_res[i])][int(x_res[i])][1]) == 0 and\\\n",
    "                   int(color_map[int(y_res[i])][int(x_res[i])][2]) == 0:\n",
    "                    valid = False\n",
    "\n",
    "            for i in range(len(x_res)):\n",
    "                if int(color_map[int(y_res[i])][int(x_res[i])][0]) == 0 and\\\n",
    "                   int(color_map[int(y_res[i])][int(x_res[i])][1]) == 255 and\\\n",
    "                   int(color_map[int(y_res[i])][int(x_res[i])][2]) == 0:\n",
    "                    valid = False\n",
    "\n",
    "        \n",
    "        if valid:\n",
    "\n",
    "            # use compressed coordinates to access a new node\n",
    "            comp_x, comp_y, comp_angle = compress_coordinates(\n",
    "                math.floor(x_res[-1]),\n",
    "                math.floor(y_res[-1]),\n",
    "                theta,\n",
    "                thresh=thresh\n",
    "            )\n",
    "\n",
    "            c2c = curr_node.c2c + cost\n",
    "            c2g = np.sqrt((x_res[-1]-goal_location[1])**2 + (y_res[-1]-goal_location[0])**2)\n",
    "            h = c2g+c2c\n",
    "\n",
    "\n",
    "            new_node = board[comp_y][comp_x][comp_angle]\n",
    "            if h < new_node.h:\n",
    "                new_node.parent = curr_node\n",
    "                new_node.cell_location = [y_res[-1], x_res[-1], theta]\n",
    "                new_node.c2c = c2c\n",
    "                new_node.c2g = c2g\n",
    "                new_node.h = h\n",
    "                new_node.local_path = [x_res, y_res]\n",
    "                new_node.command = action\n",
    "\n",
    "            next_nodes.append(new_node)\n",
    "                \n",
    "\n",
    "    return next_nodes\n",
    "\n",
    "    \n",
    "    "
   ]
  },
  {
   "cell_type": "code",
   "execution_count": null,
   "metadata": {},
   "outputs": [
    {
     "ename": "",
     "evalue": "",
     "output_type": "error",
     "traceback": [
      "\u001b[1;31mRunning cells with 'Python 3.8.10 64-bit' requires ipykernel package.\n",
      "Run the following command to install 'ipykernel' into the Python environment. \n",
      "Command: '/bin/python3 -m pip install ipykernel -U --user --force-reinstall'"
     ]
    }
   ],
   "source": [
    "# this is the backtracking function\n",
    "# returns a list of nodes in order to find the solution\n",
    "def get_solution_path(curr_node):\n",
    "    solution_path= []\n",
    "    \n",
    "    while curr_node:\n",
    "        solution_path.insert(0, curr_node)\n",
    "        curr_node = curr_node.parent\n",
    "        \n",
    "    return solution_path"
   ]
  },
  {
   "cell_type": "code",
   "execution_count": null,
   "metadata": {},
   "outputs": [
    {
     "ename": "",
     "evalue": "",
     "output_type": "error",
     "traceback": [
      "\u001b[1;31mRunning cells with 'Python 3.8.10 64-bit' requires ipykernel package.\n",
      "Run the following command to install 'ipykernel' into the Python environment. \n",
      "Command: '/bin/python3 -m pip install ipykernel -U --user --force-reinstall'"
     ]
    }
   ],
   "source": [
    "# get the command to get to each spot in the solution path\n",
    "# the first element will always be 0 since we dont have to move to get there\n",
    "def get_commands(solution_path):\n",
    "    commands = list(node.command for node in solution_path)\n",
    "    commands = list(filter(None, commands))\n",
    "    return commands"
   ]
  },
  {
   "cell_type": "code",
   "execution_count": null,
   "metadata": {},
   "outputs": [
    {
     "ename": "",
     "evalue": "",
     "output_type": "error",
     "traceback": [
      "\u001b[1;31mRunning cells with 'Python 3.8.10 64-bit' requires ipykernel package.\n",
      "Run the following command to install 'ipykernel' into the Python environment. \n",
      "Command: '/bin/python3 -m pip install ipykernel -U --user --force-reinstall'"
     ]
    }
   ],
   "source": [
    "# plot the chronologically ordered list of nodes in closed nodes, and then generate and plot the path for the solution\n",
    "\n",
    "def animate(color_map, closed_nodes, solution_path):\n",
    "\n",
    "    # draw explored nodes\n",
    "    out = cv2.VideoWriter('test.avi',cv2.VideoWriter_fourcc(*'DIVX'), 60, (400, 250))\n",
    "    for node in closed_nodes[1:]:\n",
    "        xs = node.local_path[0]\n",
    "        ys = node.local_path[1]\n",
    "        if len(xs) > 0:\n",
    "            for i in range(1, len(xs)): # get the number of points in the local path\n",
    "                cv2.line(color_map,np.array([xs[i], ys[i]], dtype=np.int32),np.array([xs[i-1], ys[i-1]], dtype=np.int32),[255, 255, 255],1)        \n",
    "                out.write(np.flipud(color_map))\n",
    "\n",
    "\n",
    "    # draw the backtracked best path\n",
    "    for node in solution_path[1:]:\n",
    "        xs = node.local_path[0]\n",
    "        ys = node.local_path[1]\n",
    "        if len(xs) > 0:\n",
    "            for i in range(1, len(xs)): # get the number of points in the local path\n",
    "                cv2.line(color_map,np.array([xs[i], ys[i]], dtype=np.int32),np.array([xs[i-1], ys[i-1]], dtype=np.int32),[0, 0, 255],1)        \n",
    "                out.write(np.flipud(color_map))\n",
    "\n",
    "    out.release()"
   ]
  },
  {
   "cell_type": "code",
   "execution_count": null,
   "metadata": {},
   "outputs": [
    {
     "ename": "",
     "evalue": "",
     "output_type": "error",
     "traceback": [
      "\u001b[1;31mRunning cells with 'Python 3.8.10 64-bit' requires ipykernel package.\n",
      "Run the following command to install 'ipykernel' into the Python environment. \n",
      "Command: '/bin/python3 -m pip install ipykernel -U --user --force-reinstall'"
     ]
    }
   ],
   "source": [
    "# make sure that the user defined paramters are fine\n",
    "# not out of bounds and is a free space for start and goal\n",
    "\n",
    "def validate_inputs(height, width, start_location, goal_location, color_map):\n",
    "    if start_location[0] not in range(0, height) or start_location[1] not in range(0, width):\n",
    "        print(\"Start Location Out Of Bounds\")\n",
    "        return False\n",
    "\n",
    "    if goal_location[0] not in range(0, height) or goal_location[1] not in range(0, width):\n",
    "        print(\"Goal Location Out Of Bounds\")\n",
    "        return False\n",
    "\n",
    "    if color_map[start_location[0]][start_location[1]][0] == 255 or color_map[start_location[0]][start_location[1]][1] == 255:\n",
    "        print('Cannot start in obstacle or obstacle margin')\n",
    "        return False\n",
    "\n",
    "    if color_map[goal_location[0]][goal_location[1]][0] == 255 or color_map[goal_location[0]][goal_location[1]][1] == 255:\n",
    "        print('Cannot place goal in obstacle or obstacle margin')\n",
    "        return False\n",
    "\n",
    "    return True"
   ]
  },
  {
   "cell_type": "code",
   "execution_count": null,
   "metadata": {},
   "outputs": [
    {
     "ename": "",
     "evalue": "",
     "output_type": "error",
     "traceback": [
      "\u001b[1;31mRunning cells with 'Python 3.8.10 64-bit' requires ipykernel package.\n",
      "Run the following command to install 'ipykernel' into the Python environment. \n",
      "Command: '/bin/python3 -m pip install ipykernel -U --user --force-reinstall'"
     ]
    }
   ],
   "source": [
    "# starting paramters\n",
    "start_location = [0,0,0]\n",
    "goal_location = [100,300,0]\n",
    "\n",
    "width = 400\n",
    "height = 250\n",
    "\n",
    "step = 3\n",
    "thresh = 0.5\n",
    "\n",
    "print('Building Color Map')\n",
    "color_map = create_color_map(height = 250, width = 400, radius=15, goal_location=goal_location)\n",
    "\n",
    "print('Building Board')\n",
    "board = create_board(width=width, height=height, thresh=thresh)\n",
    "\n",
    "\n",
    "plt.imshow(color_map, origin='lower')\n"
   ]
  },
  {
   "cell_type": "code",
   "execution_count": null,
   "metadata": {},
   "outputs": [
    {
     "ename": "",
     "evalue": "",
     "output_type": "error",
     "traceback": [
      "\u001b[1;31mRunning cells with 'Python 3.8.10 64-bit' requires ipykernel package.\n",
      "Run the following command to install 'ipykernel' into the Python environment. \n",
      "Command: '/bin/python3 -m pip install ipykernel -U --user --force-reinstall'"
     ]
    }
   ],
   "source": [
    "compressed_x_start, compressed_y_start, compressed_angle_start = compress_coordinates(\n",
    "        start_location[1],\n",
    "        start_location[0],\n",
    "        start_location[2],\n",
    "        thresh=thresh\n",
    "    )\n",
    "\n",
    "compressed_x_goal, compressed_y_goal, compressed_angle_goal = compress_coordinates(\n",
    "    goal_location[1],\n",
    "    goal_location[0],\n",
    "    goal_location[2],\n",
    "    thresh=thresh\n",
    ")\n",
    "\n",
    "print(f'Starting in region x: {compressed_x_start}, y: {compressed_y_start}, theta: {compressed_angle_start}')\n",
    "print(f'Goal in region x: {compressed_x_goal}, y: {compressed_y_goal}, theta: {compressed_angle_goal}')\n"
   ]
  },
  {
   "cell_type": "code",
   "execution_count": null,
   "metadata": {},
   "outputs": [
    {
     "ename": "",
     "evalue": "",
     "output_type": "error",
     "traceback": [
      "\u001b[1;31mRunning cells with 'Python 3.8.10 64-bit' requires ipykernel package.\n",
      "Run the following command to install 'ipykernel' into the Python environment. \n",
      "Command: '/bin/python3 -m pip install ipykernel -U --user --force-reinstall'"
     ]
    }
   ],
   "source": [
    "start_node = board[compressed_y_start][compressed_x_start][compressed_angle_start]\n",
    "goal_node = board[compressed_y_goal][compressed_x_goal][compressed_angle_goal]\n",
    "\n",
    "start_node.c2c = 0\n",
    "goal_region = goal_node.region\n",
    "\n",
    "open_nodes = [start_node]\n",
    "closed_nodes = []\n",
    "\n",
    "found = False\n",
    "solution_path = None\n",
    "commands = None\n",
    "\n",
    "print(f'Searching for goal region: {goal_region}')\n",
    "while len(open_nodes) > 0:\n",
    "\n",
    "    open_nodes.sort(key=lambda x: x.h)\n",
    "    curr_node = open_nodes.pop(0)\n",
    "    closed_nodes.append(curr_node)\n",
    "\n",
    "    curr_x = curr_node.cell_location[1]\n",
    "    curr_y = curr_node.cell_location[0]\n",
    "\n",
    "\n",
    "    print(f\"Current node has exact coordinates of x:{curr_x} y:{curr_y} Theta:{curr_node.cell_location[2]}\")\n",
    "    print(f\"Current node is in region coordinates of {curr_node.region}\")\n",
    "    # print(f\"Current node has coordinates of {curr_node.cell_location}\")\n",
    "\n",
    "\n",
    "    if int(color_map[int(curr_y)][int(curr_x)][0]) == 0 and\\\n",
    "       int(color_map[int(curr_y)][int(curr_x)][1]) == 0 and\\\n",
    "       int(color_map[int(curr_y)][int(curr_x)][2]) == 255:\n",
    "        print('Found Solution')\n",
    "        found = True\n",
    "\n",
    "        print('Animating Search Pattern')          \n",
    "        # back track and animate the search and solution\n",
    "        solution_path = get_solution_path(curr_node)\n",
    "        commands = get_commands(solution_path)\n",
    "        animate(color_map, closed_nodes, solution_path)\n",
    "\n",
    "        break\n",
    "\n",
    "    else:\n",
    "        next_possible_nodes = gen_next_nodes(\n",
    "            curr_node=curr_node,\n",
    "            board=board,\n",
    "            goal_location=goal_location,\n",
    "            color_map=color_map,\n",
    "            thresh=thresh\n",
    "        )\n",
    "        \n",
    "        for node in next_possible_nodes:\n",
    "\n",
    "            appendable = True\n",
    "            for o_node in open_nodes:\n",
    "                if o_node.region == node.region:\n",
    "                    appendable = False\n",
    "                    break\n",
    "            if appendable:\n",
    "                for c_node in closed_nodes:\n",
    "                    if c_node.region == node.region:\n",
    "                        appendable = False\n",
    "                        break\n",
    "\n",
    "            if appendable:\n",
    "                open_nodes.append(node)\n",
    "\n",
    "if not found:\n",
    "    print('No Solution')"
   ]
  },
  {
   "cell_type": "code",
   "execution_count": null,
   "metadata": {},
   "outputs": [
    {
     "ename": "",
     "evalue": "",
     "output_type": "error",
     "traceback": [
      "\u001b[1;31mRunning cells with 'Python 3.8.10 64-bit' requires ipykernel package.\n",
      "Run the following command to install 'ipykernel' into the Python environment. \n",
      "Command: '/bin/python3 -m pip install ipykernel -U --user --force-reinstall'"
     ]
    }
   ],
   "source": [
    "import rospy\n",
    "from geometry_msgs.msg import Point, Twist\n",
    "import time\n",
    "\n",
    "\n",
    "'''Move function that takes general velocities'''\n",
    "def move_forward():\n",
    "    # rospy.init_node('move', anonymous=False)\n",
    "\n",
    "    \n",
    "    # rospy.on_shutdown(shutdown)\n",
    "\n",
    "\n",
    "    cmd_vel = rospy.Publisher('/cmd_vel', Twist, queue_size=10)\n",
    "\n",
    "    # r = rospy.Rate(5)\n",
    "\n",
    "    move_cmd = Twist()\n",
    "    move_cmd.linear.x = 0.4\n",
    "    move_cmd.angular.z = 0.0\n",
    "\n",
    "    start_time_straight = time.time()\n",
    "    while not rospy.is_shutdown() and (time.time() - start_time_straight < 0.2):\n",
    "        cmd_vel.publish(move_cmd)\n",
    "        r.sleep()\n",
    "\n",
    "\n",
    "    def shutdown(self):\n",
    "        # stop the turtlebot\n",
    "        rospy.loginfo(\"Stop TurtleBot\")\n",
    "        print(h)\n",
    "        self.cmd_vel.publish(Twist())\n",
    "        rospy.sleep(1)\n",
    "    # move forward a distance\n",
    "\n",
    "\n",
    "# def rotate():\n",
    "    # Rotate a set number of degrees. Negative for left\n",
    "\n",
    "def get_inputs(solution_path):\n",
    "\n",
    "    for node in solution_path:\n",
    "        xs = node.local_path[0]\n",
    "        ys = node.local_path[1]\n",
    "        # if len(xs) > 0:\n",
    "            \n",
    "\n",
    "\n",
    "    # points_ = []\n",
    "    # # Read path points from pathfinder\n",
    "    # with open(filename, \"r\") as points:\n",
    "    #     for line in points.readlines:\n",
    "\n",
    "def line_calc(mext,pres):\n",
    "    return\n",
    "\n",
    "def rotate(angle):\n",
    "    return\n",
    "\n",
    "backtracked_nodes = []\n",
    "\n",
    "pres_node = backtracked_nodes.pop(0)\n",
    "x_p = pres_node.cell_location[0]\n",
    "y_p = pres_node.cell_location[1]\n",
    "angle_p = pres_node.cell_location[2]\n",
    "\n",
    "while len(backtracked_nodes) != 0:\n",
    "    next_node = backtracked_nodes.pop(0)\n",
    "    x_n = next_node.cell_location[0]\n",
    "    y_n = next_node.cell_location[1]\n",
    "    angle_n = next_node.cell_location[2]\n",
    "\n",
    "    angle_rot = angle_p-angle_n\n",
    "    distance = line_calc((x_n,y_n),(x_p,y_p))\n",
    "\n",
    "    rotate(angle_rot)\n",
    "\n",
    "    move_forward(distance)\n",
    "\n",
    "    pres_node = next_node\n",
    "    x_p = pres_node.cell_location[0]\n",
    "    y_p = pres_node.cell_location[1]\n",
    "    angle_p = pres_node.cell_location[2]\n",
    "\n",
    "x = 0.0\n",
    "y= 0.0\n",
    "theta = 0.0\n",
    "h = []\n",
    "def move_robot(msg):\n",
    "    global x\n",
    "    global y\n",
    "    global theta\n",
    "    global coordinates\n",
    "    x = msg.pose.pose.position.x\n",
    "    y = msg.pose.pose.position.y\n",
    "    rot_q = msg.pose.pose.orientation\n",
    "    coordinates = (x,y)\n",
    "    (roll,pitch,theta) = euler_from_quaternion([rot_q.x,rot_q.y,rot_q.z,rot_q.w]) # Found this function, it is rather useful\n",
    "\n",
    "# Steps:\n",
    "'''\n",
    "Read input from list\n",
    "turn to face next point\n",
    "drive to next position\n",
    "\n",
    "\n",
    "\n",
    "'''\n",
    "\n",
    "sub = rospy.Subscriber(\"/odom\",Odometry,move_robot)"
   ]
  }
 ],
 "metadata": {
  "interpreter": {
   "hash": "e7370f93d1d0cde622a1f8e1c04877d8463912d04d973331ad4851f04de6915a"
  },
  "kernelspec": {
   "display_name": "Python 3.8.10 64-bit",
   "language": "python",
   "name": "python3"
  },
  "language_info": {
   "codemirror_mode": {
    "name": "ipython",
    "version": 3
   },
   "file_extension": ".py",
   "mimetype": "text/x-python",
   "name": "python",
   "nbconvert_exporter": "python",
   "pygments_lexer": "ipython3",
   "version": "3.8.10"
  },
  "orig_nbformat": 4
 },
 "nbformat": 4,
 "nbformat_minor": 2
}
